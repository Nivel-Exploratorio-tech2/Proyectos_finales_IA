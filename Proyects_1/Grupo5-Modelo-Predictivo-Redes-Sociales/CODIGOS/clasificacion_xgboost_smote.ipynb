{
 "cells": [
  {
   "cell_type": "markdown",
   "id": "96855d49",
   "metadata": {},
   "source": [
    "# Clasificación usando XGBoost con SMOTE"
   ]
  },
  {
   "cell_type": "markdown",
   "id": "c3e74ffa",
   "metadata": {},
   "source": [
    "\n",
    "En este notebook, utilizaremos **XGBoost** para realizar una clasificación de los datos proporcionados, \n",
    "teniendo en cuenta que las características son en su mayoría categóricas y codificadas. Además, dado que la clase 1 es minoritaria, \n",
    "aplicaremos **SMOTE** para balancear los datos. \n",
    "\n",
    "**Estructura del notebook:**\n",
    "1. Importación de librerías\n",
    "2. Carga de los datos\n",
    "3. División de los datos (entrenamiento y prueba)\n",
    "4. Aplicación de SMOTE para balancear las clases\n",
    "5. Entrenamiento del modelo XGBoost\n",
    "6. Evaluación del modelo usando matriz de confusión y métricas de clasificación\n"
   ]
  },
  {
   "cell_type": "code",
   "execution_count": null,
   "id": "646d1e13",
   "metadata": {},
   "outputs": [],
   "source": [
    "\n",
    "# 1. Importación de librerías\n",
    "import pandas as pd\n",
    "import numpy as np\n",
    "from sklearn.model_selection import train_test_split\n",
    "from sklearn.metrics import classification_report, confusion_matrix\n",
    "from xgboost import XGBClassifier\n",
    "from imblearn.over_sampling import SMOTE\n"
   ]
  },
  {
   "cell_type": "code",
   "execution_count": null,
   "id": "a8bab729",
   "metadata": {},
   "outputs": [],
   "source": [
    "\n",
    "# 2. Cargar los datos (ajusta la ruta a tu archivo)\n",
    "data = pd.read_csv(\"tus_datos.csv\")  # Reemplaza con tu archivo\n",
    "X = data.drop(\"etiqueta\", axis=1)\n",
    "y = data[\"etiqueta\"]\n"
   ]
  },
  {
   "cell_type": "code",
   "execution_count": null,
   "id": "17aadd50",
   "metadata": {},
   "outputs": [],
   "source": [
    "\n",
    "# 3. División de los datos en entrenamiento y prueba\n",
    "X_train, X_test, y_train, y_test = train_test_split(\n",
    "    X, y, test_size=0.3, stratify=y, random_state=42)\n"
   ]
  },
  {
   "cell_type": "code",
   "execution_count": null,
   "id": "798876fd",
   "metadata": {},
   "outputs": [],
   "source": [
    "\n",
    "# 4. Manejo del desbalance con SMOTE\n",
    "smote = SMOTE(random_state=42)\n",
    "X_train_smote, y_train_smote = smote.fit_resample(X_train, y_train)\n"
   ]
  },
  {
   "cell_type": "code",
   "execution_count": null,
   "id": "e5e28a3e",
   "metadata": {},
   "outputs": [],
   "source": [
    "\n",
    "# 5. Inicialización y entrenamiento del modelo XGBoost\n",
    "model = XGBClassifier(use_label_encoder=False, eval_metric='logloss', random_state=42)\n",
    "model.fit(X_train_smote, y_train_smote)\n"
   ]
  },
  {
   "cell_type": "code",
   "execution_count": null,
   "id": "463f16a4",
   "metadata": {},
   "outputs": [],
   "source": [
    "\n",
    "# 6. Predicciones y evaluación\n",
    "y_pred = model.predict(X_test)\n",
    "\n",
    "# Reporte de métricas\n",
    "print(\"Matriz de Confusión:\")\n",
    "print(confusion_matrix(y_test, y_pred))\n",
    "print(\"\\nReporte de Clasificación:\")\n",
    "print(classification_report(y_test, y_pred))\n"
   ]
  }
 ],
 "metadata": {},
 "nbformat": 4,
 "nbformat_minor": 5
}
